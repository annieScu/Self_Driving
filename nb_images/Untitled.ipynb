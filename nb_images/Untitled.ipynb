{
 "cells": [
  {
   "cell_type": "code",
   "execution_count": 3,
   "metadata": {},
   "outputs": [
    {
     "name": "stdout",
     "output_type": "stream",
     "text": [
      "Python 3.7.6\n"
     ]
    },
    {
     "name": "stderr",
     "output_type": "stream",
     "text": [
      "'grep' is not recognized as an internal or external command,\n",
      "operable program or batch file.\n",
      "'ls' is not recognized as an internal or external command,\n",
      "operable program or batch file.\n",
      "'cat' is not recognized as an internal or external command,\n",
      "operable program or batch file.\n",
      "'rm' is not recognized as an internal or external command,\n",
      "operable program or batch file.\n"
     ]
    }
   ],
   "source": [
    "\"\"\"we do this from any course1 notebook, and we need to do this only once for the entire course, NOT for every week\"\"\"\n",
    "\n",
    "\"\"\"find out python version used by Coursera\"\"\"\n",
    "!python -V\n",
    "\n",
    "\"\"\"find out python packages installed, ignore anaconda packages, and put the results in a specification file two directories up\n",
    "\n",
    "  NOTE: this is for course1 only, the directory structure of other courses\n",
    "  can be different.  FOR EXAMPLE, course4 directory structure is only one\n",
    "  level deep.  For course4, you will use ../ instead of ../../ in all the\n",
    "  instructions below\"\"\"\n",
    "!pip freeze | grep -v anaconda > ../../course4-pipfreeze.txt\n",
    "\n",
    "\"\"\"uncomment the commands below to check we correctly created the specification file, to look at the contents of the file, and to remove the file after you are done setting things up locally (this is a nice thing to do)\"\"\"\n",
    "!ls ../../course4-pipfreeze.txt\n",
    "!cat ../../course4-pipfreeze.txt\n",
    "!rm -f ../../course4-pipfreeze.txt"
   ]
  },
  {
   "cell_type": "code",
   "execution_count": 2,
   "metadata": {},
   "outputs": [
    {
     "name": "stderr",
     "output_type": "stream",
     "text": [
      "'tar' is not recognized as an internal or external command,\n",
      "operable program or batch file.\n",
      "'ls' is not recognized as an internal or external command,\n",
      "operable program or batch file.\n"
     ]
    },
    {
     "data": {
      "text/plain": [
       "\"uncomment the following command to remove the files we created.  you must do this at the end so that you don't keep on retarring tar archives in the future\""
      ]
     },
     "execution_count": 2,
     "metadata": {},
     "output_type": "execute_result"
    }
   ],
   "source": [
    "\"\"\" tar the course content and split it into 200 Mb chunks.  you will end up with multiple files (depending on the size of course content).  the files will be named course1.tgz.aa, course1.tgz.ab, and so on\"\"\"\n",
    "!tar chzvf - ../../* | split -b 200M - ../../\"course1.tgz.\"\n",
    "\n",
    "\"\"\"the following command lists the files we created\"\"\"\n",
    "!ls ../../course1.tgz.*\n",
    "\n",
    "\"\"\"uncomment the following command to remove the files we created.  you must do this at the end so that you don't keep on retarring tar archives in the future\"\"\"\n",
    "# !rm -f ../../course1.tgz.*"
   ]
  }
 ],
 "metadata": {
  "kernelspec": {
   "display_name": "Python 3",
   "language": "python",
   "name": "python3"
  },
  "language_info": {
   "codemirror_mode": {
    "name": "ipython",
    "version": 3
   },
   "file_extension": ".py",
   "mimetype": "text/x-python",
   "name": "python",
   "nbconvert_exporter": "python",
   "pygments_lexer": "ipython3",
   "version": "3.7.6"
  }
 },
 "nbformat": 4,
 "nbformat_minor": 4
}
